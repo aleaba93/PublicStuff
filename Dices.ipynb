{
  "nbformat": 4,
  "nbformat_minor": 0,
  "metadata": {
    "colab": {
      "provenance": [],
      "toc_visible": true,
      "authorship_tag": "ABX9TyMbmb7boWSM4oyNqmCb4ukc",
      "include_colab_link": true
    },
    "kernelspec": {
      "name": "python3",
      "display_name": "Python 3"
    },
    "language_info": {
      "name": "python"
    }
  },
  "cells": [
    {
      "cell_type": "markdown",
      "metadata": {
        "id": "view-in-github",
        "colab_type": "text"
      },
      "source": [
        "<a href=\"https://colab.research.google.com/github/aleaba93/PublicStuff/blob/MAIN2/Dices.ipynb\" target=\"_parent\"><img src=\"https://colab.research.google.com/assets/colab-badge.svg\" alt=\"Open In Colab\"/></a>"
      ]
    },
    {
      "cell_type": "markdown",
      "source": [
        "# Importo librerie"
      ],
      "metadata": {
        "id": "6yhZGu6hHWZX"
      }
    },
    {
      "cell_type": "code",
      "execution_count": 1,
      "metadata": {
        "id": "9-ScHLzcAY8q"
      },
      "outputs": [],
      "source": [
        "# %load_ext autoreload\n",
        "# %autoreload 2\n",
        "\n",
        "# Import all libraries :\n",
        "import math\n",
        "import time\n",
        "from time import time\n",
        "import datetime\n",
        "import numpy as np\n",
        "import pandas as pd\n",
        "import random\n",
        "from random import randint\n",
        "from pandas.tseries.offsets import MonthEnd\n",
        "from IPython.display import clear_output\n",
        "import sys\n",
        "from pprint import pprint\n",
        "#from matplotlib import pyplot as plt\n",
        "import matplotlib.pyplot as plt\n",
        "import seaborn as sns\n",
        "import os"
      ]
    },
    {
      "cell_type": "code",
      "source": [
        "# Silences filter type warnings\n",
        "import warnings\n",
        "warnings.filterwarnings('ignore')\n",
        "# Change the max # of columns and rows\n",
        "pd.set_option('display.float_format', lambda x: '%.5f' % x)\n",
        "pd.set_option(\"display.max_rows\", 350)\n",
        "pd.set_option(\"display.max_columns\", 200)"
      ],
      "metadata": {
        "id": "qcmxJpt6HV0X"
      },
      "execution_count": 2,
      "outputs": []
    },
    {
      "cell_type": "markdown",
      "source": [
        "#PARAMS"
      ],
      "metadata": {
        "id": "fgBJhv2z2HrF"
      }
    },
    {
      "cell_type": "code",
      "source": [
        "AC = list(range(1, 22)) # Change the first param to modify the min Armor Class and the second for the max AC\n",
        "PB = 2 # Proficiency bonus\n",
        "ATT = 3 # Attribute modifier\n",
        "MW = 0 # Magic weapon (it can be 0, 1, 2 or 3)\n",
        "BLS = False # Set True if you want to add the effect of the spell \"Bless\", False otherwise\n",
        "dices_number = 20"
      ],
      "metadata": {
        "id": "wD4yCzyrHV9J"
      },
      "execution_count": 3,
      "outputs": []
    },
    {
      "cell_type": "markdown",
      "source": [
        "# FUNCTIONS"
      ],
      "metadata": {
        "id": "bQfOdGUH2o8G"
      }
    },
    {
      "cell_type": "code",
      "source": [
        "def blss():\n",
        "    if BLS:\n",
        "        return randint(1,4)\n",
        "    else:\n",
        "        return 0\n",
        "\n",
        "# n: numero di dadi da lanciare, m: massimale del dado (di default è 6)\n",
        "def dann(n, m=6):\n",
        "    somma=[]\n",
        "    for i in range(n):\n",
        "        d6 =randint(1, m)\n",
        "        somma.append(d6)\n",
        "    return sum(somma)\n",
        "\n",
        "def d20():\n",
        "    return randint(1,20)"
      ],
      "metadata": {
        "id": "a5zxv62y2ZMj"
      },
      "execution_count": 4,
      "outputs": []
    },
    {
      "cell_type": "markdown",
      "source": [
        "# GETTING THE DATA"
      ],
      "metadata": {
        "id": "pTqO5q8i6oJm"
      }
    },
    {
      "cell_type": "code",
      "source": [
        "# Roll 100 dices (both Great Weapon Master and Normal)\n",
        "gwm=[] #list of dmgs\n",
        "noG=[] #list of dmgs\n",
        "df = pd.DataFrame(columns=[\"AC\", \"GWM\", \"noG\"])\n",
        "\n",
        "for ac in AC:\n",
        "    for i in range(dices_number):\n",
        "      #Rolls with Great Weapon Master\n",
        "        tpc = d20() + PB + ATT -5 + blss() + MW\n",
        "        if tpc >= ac:\n",
        "            great = dann(2,6) +ATT +10 + MW\n",
        "        else:\n",
        "            great = 0 #Miss -> 0 damage\n",
        "        gwm.append(great)\n",
        "      #Rolls without Great Weapon Master\n",
        "        tpc = d20() + PB + ATT + blss() + MW\n",
        "        if tpc >= ac:\n",
        "            norm = dann(2,6) +ATT + MW\n",
        "        else:\n",
        "            norm = 0 #Miss -> 0 damage\n",
        "        noG.append(norm)\n",
        "\n",
        "        new_row = pd.DataFrame({'AC': ac, 'GWM': great, 'noG': norm}, index=[0])\n",
        "        df = pd.concat([df.loc[:], new_row]).reset_index(drop=True)\n",
        "        #df = pd.concat([df, pd.DataFrame()], ignore_index=True) #df con singoli valori\n",
        "\n",
        "df.shape"
      ],
      "metadata": {
        "colab": {
          "base_uri": "https://localhost:8080/"
        },
        "id": "yawnbJcS21pE",
        "outputId": "528bfdf6-e018-4b94-af28-14eb3009a31d"
      },
      "execution_count": 5,
      "outputs": [
        {
          "output_type": "execute_result",
          "data": {
            "text/plain": [
              "(420, 3)"
            ]
          },
          "metadata": {},
          "execution_count": 5
        }
      ]
    },
    {
      "cell_type": "markdown",
      "source": [
        "Im thinking about making the mean of 5 rolls (~ a fight) and repeat 100 times. Like the result of 100 fights..."
      ],
      "metadata": {
        "id": "58aOmL1FR-In"
      }
    },
    {
      "cell_type": "code",
      "source": [
        "print(df.head(3).set_index([\"AC\"]),'\\n', df.tail(3).set_index([\"AC\"]))"
      ],
      "metadata": {
        "colab": {
          "base_uri": "https://localhost:8080/"
        },
        "id": "4yyFXfDh6Ga_",
        "outputId": "2ff0e0e1-ebe7-465b-d21f-888e9c401cab"
      },
      "execution_count": 6,
      "outputs": [
        {
          "output_type": "stream",
          "name": "stdout",
          "text": [
            "   GWM noG\n",
            "AC        \n",
            "1   23  10\n",
            "1   22  11\n",
            "1   21   7 \n",
            "    GWM noG\n",
            "AC        \n",
            "21   0   0\n",
            "21   0   0\n",
            "21   0   0\n"
          ]
        }
      ]
    },
    {
      "cell_type": "code",
      "source": [
        "#Create a dataframe with Hitting chance % and mean\n",
        "HIT = pd.DataFrame()\n",
        "for ac in AC:\n",
        "    # hitchance by ac\n",
        "    for k in [1,2]:\n",
        "        exec(f'hit{k} = round( df[(df.AC==ac) & (df.iloc[:,{k}]!=0)][df.columns[{k}]].count() / len(df[df.AC==ac])*100 ,1)')\n",
        "    #print(\"AC:\",ac,\"H1:\",hit1,\" h2:\",hit2)\n",
        "    # mean dmg by ac\n",
        "        exec(f'dmg{k} = round( df[df.AC==ac][df.columns[{k}]].sum() / len(df[df.AC==ac]) ,1)')\n",
        "    #print(\"AC:\",ac,\"H1:\",hit1,\" h2:\",hit2)\n",
        "    to_conc = pd.DataFrame({'AC': ac, 'hitG': hit1, 'hitN': hit2, 'mnG': dmg1, 'mnN': dmg2}, index=[0])\n",
        "    #HIT = pd.concat([HIT, to_conc]).reset_index=True\n",
        "    HIT = pd.concat([HIT, to_conc], axis=0).reset_index(drop=True)\n",
        "\n",
        "print(\"hit -> % of hitting \\n mn -> mean damage dealt(missing is 0)\")\n",
        "HIT"
      ],
      "metadata": {
        "colab": {
          "base_uri": "https://localhost:8080/",
          "height": 743
        },
        "id": "IKIX_ErL7JzV",
        "outputId": "3579de4d-effd-4bce-bbb0-4bb2983f59f8"
      },
      "execution_count": 7,
      "outputs": [
        {
          "output_type": "stream",
          "name": "stdout",
          "text": [
            "hit -> % of hitting \n",
            " mn -> mean damage dealt(missing is 0)\n"
          ]
        },
        {
          "output_type": "execute_result",
          "data": {
            "text/plain": [
              "    AC      hitG      hitN      mnG      mnN\n",
              "0    1 100.00000 100.00000 21.10000 10.40000\n",
              "1    2 100.00000 100.00000 19.60000 10.10000\n",
              "2    3  90.00000 100.00000 18.20000  9.80000\n",
              "3    4  90.00000 100.00000 17.60000  9.50000\n",
              "4    5  80.00000 100.00000 16.40000  9.30000\n",
              "5    6  70.00000 100.00000 14.60000 10.00000\n",
              "6    7  60.00000  90.00000 11.60000  9.20000\n",
              "7    8  80.00000  95.00000 15.60000  9.30000\n",
              "8    9  85.00000  85.00000 16.60000  8.80000\n",
              "9   10  40.00000  85.00000  8.00000  8.20000\n",
              "10  11  25.00000  80.00000  4.90000  8.00000\n",
              "11  12  70.00000  65.00000 13.00000  7.10000\n",
              "12  13  35.00000  65.00000  6.90000  6.20000\n",
              "13  14  30.00000  85.00000  5.90000  7.60000\n",
              "14  15  35.00000  60.00000  7.00000  5.80000\n",
              "15  16  45.00000  40.00000  9.40000  4.00000\n",
              "16  17  30.00000  50.00000  6.10000  4.70000\n",
              "17  18   0.00000  35.00000  0.00000  3.50000\n",
              "18  19   5.00000  25.00000  1.00000  3.00000\n",
              "19  20   0.00000  25.00000  0.00000  2.30000\n",
              "20  21   0.00000  25.00000  0.00000  2.50000"
            ],
            "text/html": [
              "\n",
              "  <div id=\"df-d03b81da-24ca-433d-9fd3-2a870b168bfb\" class=\"colab-df-container\">\n",
              "    <div>\n",
              "<style scoped>\n",
              "    .dataframe tbody tr th:only-of-type {\n",
              "        vertical-align: middle;\n",
              "    }\n",
              "\n",
              "    .dataframe tbody tr th {\n",
              "        vertical-align: top;\n",
              "    }\n",
              "\n",
              "    .dataframe thead th {\n",
              "        text-align: right;\n",
              "    }\n",
              "</style>\n",
              "<table border=\"1\" class=\"dataframe\">\n",
              "  <thead>\n",
              "    <tr style=\"text-align: right;\">\n",
              "      <th></th>\n",
              "      <th>AC</th>\n",
              "      <th>hitG</th>\n",
              "      <th>hitN</th>\n",
              "      <th>mnG</th>\n",
              "      <th>mnN</th>\n",
              "    </tr>\n",
              "  </thead>\n",
              "  <tbody>\n",
              "    <tr>\n",
              "      <th>0</th>\n",
              "      <td>1</td>\n",
              "      <td>100.00000</td>\n",
              "      <td>100.00000</td>\n",
              "      <td>21.10000</td>\n",
              "      <td>10.40000</td>\n",
              "    </tr>\n",
              "    <tr>\n",
              "      <th>1</th>\n",
              "      <td>2</td>\n",
              "      <td>100.00000</td>\n",
              "      <td>100.00000</td>\n",
              "      <td>19.60000</td>\n",
              "      <td>10.10000</td>\n",
              "    </tr>\n",
              "    <tr>\n",
              "      <th>2</th>\n",
              "      <td>3</td>\n",
              "      <td>90.00000</td>\n",
              "      <td>100.00000</td>\n",
              "      <td>18.20000</td>\n",
              "      <td>9.80000</td>\n",
              "    </tr>\n",
              "    <tr>\n",
              "      <th>3</th>\n",
              "      <td>4</td>\n",
              "      <td>90.00000</td>\n",
              "      <td>100.00000</td>\n",
              "      <td>17.60000</td>\n",
              "      <td>9.50000</td>\n",
              "    </tr>\n",
              "    <tr>\n",
              "      <th>4</th>\n",
              "      <td>5</td>\n",
              "      <td>80.00000</td>\n",
              "      <td>100.00000</td>\n",
              "      <td>16.40000</td>\n",
              "      <td>9.30000</td>\n",
              "    </tr>\n",
              "    <tr>\n",
              "      <th>5</th>\n",
              "      <td>6</td>\n",
              "      <td>70.00000</td>\n",
              "      <td>100.00000</td>\n",
              "      <td>14.60000</td>\n",
              "      <td>10.00000</td>\n",
              "    </tr>\n",
              "    <tr>\n",
              "      <th>6</th>\n",
              "      <td>7</td>\n",
              "      <td>60.00000</td>\n",
              "      <td>90.00000</td>\n",
              "      <td>11.60000</td>\n",
              "      <td>9.20000</td>\n",
              "    </tr>\n",
              "    <tr>\n",
              "      <th>7</th>\n",
              "      <td>8</td>\n",
              "      <td>80.00000</td>\n",
              "      <td>95.00000</td>\n",
              "      <td>15.60000</td>\n",
              "      <td>9.30000</td>\n",
              "    </tr>\n",
              "    <tr>\n",
              "      <th>8</th>\n",
              "      <td>9</td>\n",
              "      <td>85.00000</td>\n",
              "      <td>85.00000</td>\n",
              "      <td>16.60000</td>\n",
              "      <td>8.80000</td>\n",
              "    </tr>\n",
              "    <tr>\n",
              "      <th>9</th>\n",
              "      <td>10</td>\n",
              "      <td>40.00000</td>\n",
              "      <td>85.00000</td>\n",
              "      <td>8.00000</td>\n",
              "      <td>8.20000</td>\n",
              "    </tr>\n",
              "    <tr>\n",
              "      <th>10</th>\n",
              "      <td>11</td>\n",
              "      <td>25.00000</td>\n",
              "      <td>80.00000</td>\n",
              "      <td>4.90000</td>\n",
              "      <td>8.00000</td>\n",
              "    </tr>\n",
              "    <tr>\n",
              "      <th>11</th>\n",
              "      <td>12</td>\n",
              "      <td>70.00000</td>\n",
              "      <td>65.00000</td>\n",
              "      <td>13.00000</td>\n",
              "      <td>7.10000</td>\n",
              "    </tr>\n",
              "    <tr>\n",
              "      <th>12</th>\n",
              "      <td>13</td>\n",
              "      <td>35.00000</td>\n",
              "      <td>65.00000</td>\n",
              "      <td>6.90000</td>\n",
              "      <td>6.20000</td>\n",
              "    </tr>\n",
              "    <tr>\n",
              "      <th>13</th>\n",
              "      <td>14</td>\n",
              "      <td>30.00000</td>\n",
              "      <td>85.00000</td>\n",
              "      <td>5.90000</td>\n",
              "      <td>7.60000</td>\n",
              "    </tr>\n",
              "    <tr>\n",
              "      <th>14</th>\n",
              "      <td>15</td>\n",
              "      <td>35.00000</td>\n",
              "      <td>60.00000</td>\n",
              "      <td>7.00000</td>\n",
              "      <td>5.80000</td>\n",
              "    </tr>\n",
              "    <tr>\n",
              "      <th>15</th>\n",
              "      <td>16</td>\n",
              "      <td>45.00000</td>\n",
              "      <td>40.00000</td>\n",
              "      <td>9.40000</td>\n",
              "      <td>4.00000</td>\n",
              "    </tr>\n",
              "    <tr>\n",
              "      <th>16</th>\n",
              "      <td>17</td>\n",
              "      <td>30.00000</td>\n",
              "      <td>50.00000</td>\n",
              "      <td>6.10000</td>\n",
              "      <td>4.70000</td>\n",
              "    </tr>\n",
              "    <tr>\n",
              "      <th>17</th>\n",
              "      <td>18</td>\n",
              "      <td>0.00000</td>\n",
              "      <td>35.00000</td>\n",
              "      <td>0.00000</td>\n",
              "      <td>3.50000</td>\n",
              "    </tr>\n",
              "    <tr>\n",
              "      <th>18</th>\n",
              "      <td>19</td>\n",
              "      <td>5.00000</td>\n",
              "      <td>25.00000</td>\n",
              "      <td>1.00000</td>\n",
              "      <td>3.00000</td>\n",
              "    </tr>\n",
              "    <tr>\n",
              "      <th>19</th>\n",
              "      <td>20</td>\n",
              "      <td>0.00000</td>\n",
              "      <td>25.00000</td>\n",
              "      <td>0.00000</td>\n",
              "      <td>2.30000</td>\n",
              "    </tr>\n",
              "    <tr>\n",
              "      <th>20</th>\n",
              "      <td>21</td>\n",
              "      <td>0.00000</td>\n",
              "      <td>25.00000</td>\n",
              "      <td>0.00000</td>\n",
              "      <td>2.50000</td>\n",
              "    </tr>\n",
              "  </tbody>\n",
              "</table>\n",
              "</div>\n",
              "    <div class=\"colab-df-buttons\">\n",
              "\n",
              "  <div class=\"colab-df-container\">\n",
              "    <button class=\"colab-df-convert\" onclick=\"convertToInteractive('df-d03b81da-24ca-433d-9fd3-2a870b168bfb')\"\n",
              "            title=\"Convert this dataframe to an interactive table.\"\n",
              "            style=\"display:none;\">\n",
              "\n",
              "  <svg xmlns=\"http://www.w3.org/2000/svg\" height=\"24px\" viewBox=\"0 -960 960 960\">\n",
              "    <path d=\"M120-120v-720h720v720H120Zm60-500h600v-160H180v160Zm220 220h160v-160H400v160Zm0 220h160v-160H400v160ZM180-400h160v-160H180v160Zm440 0h160v-160H620v160ZM180-180h160v-160H180v160Zm440 0h160v-160H620v160Z\"/>\n",
              "  </svg>\n",
              "    </button>\n",
              "\n",
              "  <style>\n",
              "    .colab-df-container {\n",
              "      display:flex;\n",
              "      gap: 12px;\n",
              "    }\n",
              "\n",
              "    .colab-df-convert {\n",
              "      background-color: #E8F0FE;\n",
              "      border: none;\n",
              "      border-radius: 50%;\n",
              "      cursor: pointer;\n",
              "      display: none;\n",
              "      fill: #1967D2;\n",
              "      height: 32px;\n",
              "      padding: 0 0 0 0;\n",
              "      width: 32px;\n",
              "    }\n",
              "\n",
              "    .colab-df-convert:hover {\n",
              "      background-color: #E2EBFA;\n",
              "      box-shadow: 0px 1px 2px rgba(60, 64, 67, 0.3), 0px 1px 3px 1px rgba(60, 64, 67, 0.15);\n",
              "      fill: #174EA6;\n",
              "    }\n",
              "\n",
              "    .colab-df-buttons div {\n",
              "      margin-bottom: 4px;\n",
              "    }\n",
              "\n",
              "    [theme=dark] .colab-df-convert {\n",
              "      background-color: #3B4455;\n",
              "      fill: #D2E3FC;\n",
              "    }\n",
              "\n",
              "    [theme=dark] .colab-df-convert:hover {\n",
              "      background-color: #434B5C;\n",
              "      box-shadow: 0px 1px 3px 1px rgba(0, 0, 0, 0.15);\n",
              "      filter: drop-shadow(0px 1px 2px rgba(0, 0, 0, 0.3));\n",
              "      fill: #FFFFFF;\n",
              "    }\n",
              "  </style>\n",
              "\n",
              "    <script>\n",
              "      const buttonEl =\n",
              "        document.querySelector('#df-d03b81da-24ca-433d-9fd3-2a870b168bfb button.colab-df-convert');\n",
              "      buttonEl.style.display =\n",
              "        google.colab.kernel.accessAllowed ? 'block' : 'none';\n",
              "\n",
              "      async function convertToInteractive(key) {\n",
              "        const element = document.querySelector('#df-d03b81da-24ca-433d-9fd3-2a870b168bfb');\n",
              "        const dataTable =\n",
              "          await google.colab.kernel.invokeFunction('convertToInteractive',\n",
              "                                                    [key], {});\n",
              "        if (!dataTable) return;\n",
              "\n",
              "        const docLinkHtml = 'Like what you see? Visit the ' +\n",
              "          '<a target=\"_blank\" href=https://colab.research.google.com/notebooks/data_table.ipynb>data table notebook</a>'\n",
              "          + ' to learn more about interactive tables.';\n",
              "        element.innerHTML = '';\n",
              "        dataTable['output_type'] = 'display_data';\n",
              "        await google.colab.output.renderOutput(dataTable, element);\n",
              "        const docLink = document.createElement('div');\n",
              "        docLink.innerHTML = docLinkHtml;\n",
              "        element.appendChild(docLink);\n",
              "      }\n",
              "    </script>\n",
              "  </div>\n",
              "\n",
              "\n",
              "<div id=\"df-9194027a-c301-47a2-b999-ed2d35aad0e4\">\n",
              "  <button class=\"colab-df-quickchart\" onclick=\"quickchart('df-9194027a-c301-47a2-b999-ed2d35aad0e4')\"\n",
              "            title=\"Suggest charts\"\n",
              "            style=\"display:none;\">\n",
              "\n",
              "<svg xmlns=\"http://www.w3.org/2000/svg\" height=\"24px\"viewBox=\"0 0 24 24\"\n",
              "     width=\"24px\">\n",
              "    <g>\n",
              "        <path d=\"M19 3H5c-1.1 0-2 .9-2 2v14c0 1.1.9 2 2 2h14c1.1 0 2-.9 2-2V5c0-1.1-.9-2-2-2zM9 17H7v-7h2v7zm4 0h-2V7h2v10zm4 0h-2v-4h2v4z\"/>\n",
              "    </g>\n",
              "</svg>\n",
              "  </button>\n",
              "\n",
              "<style>\n",
              "  .colab-df-quickchart {\n",
              "      --bg-color: #E8F0FE;\n",
              "      --fill-color: #1967D2;\n",
              "      --hover-bg-color: #E2EBFA;\n",
              "      --hover-fill-color: #174EA6;\n",
              "      --disabled-fill-color: #AAA;\n",
              "      --disabled-bg-color: #DDD;\n",
              "  }\n",
              "\n",
              "  [theme=dark] .colab-df-quickchart {\n",
              "      --bg-color: #3B4455;\n",
              "      --fill-color: #D2E3FC;\n",
              "      --hover-bg-color: #434B5C;\n",
              "      --hover-fill-color: #FFFFFF;\n",
              "      --disabled-bg-color: #3B4455;\n",
              "      --disabled-fill-color: #666;\n",
              "  }\n",
              "\n",
              "  .colab-df-quickchart {\n",
              "    background-color: var(--bg-color);\n",
              "    border: none;\n",
              "    border-radius: 50%;\n",
              "    cursor: pointer;\n",
              "    display: none;\n",
              "    fill: var(--fill-color);\n",
              "    height: 32px;\n",
              "    padding: 0;\n",
              "    width: 32px;\n",
              "  }\n",
              "\n",
              "  .colab-df-quickchart:hover {\n",
              "    background-color: var(--hover-bg-color);\n",
              "    box-shadow: 0 1px 2px rgba(60, 64, 67, 0.3), 0 1px 3px 1px rgba(60, 64, 67, 0.15);\n",
              "    fill: var(--button-hover-fill-color);\n",
              "  }\n",
              "\n",
              "  .colab-df-quickchart-complete:disabled,\n",
              "  .colab-df-quickchart-complete:disabled:hover {\n",
              "    background-color: var(--disabled-bg-color);\n",
              "    fill: var(--disabled-fill-color);\n",
              "    box-shadow: none;\n",
              "  }\n",
              "\n",
              "  .colab-df-spinner {\n",
              "    border: 2px solid var(--fill-color);\n",
              "    border-color: transparent;\n",
              "    border-bottom-color: var(--fill-color);\n",
              "    animation:\n",
              "      spin 1s steps(1) infinite;\n",
              "  }\n",
              "\n",
              "  @keyframes spin {\n",
              "    0% {\n",
              "      border-color: transparent;\n",
              "      border-bottom-color: var(--fill-color);\n",
              "      border-left-color: var(--fill-color);\n",
              "    }\n",
              "    20% {\n",
              "      border-color: transparent;\n",
              "      border-left-color: var(--fill-color);\n",
              "      border-top-color: var(--fill-color);\n",
              "    }\n",
              "    30% {\n",
              "      border-color: transparent;\n",
              "      border-left-color: var(--fill-color);\n",
              "      border-top-color: var(--fill-color);\n",
              "      border-right-color: var(--fill-color);\n",
              "    }\n",
              "    40% {\n",
              "      border-color: transparent;\n",
              "      border-right-color: var(--fill-color);\n",
              "      border-top-color: var(--fill-color);\n",
              "    }\n",
              "    60% {\n",
              "      border-color: transparent;\n",
              "      border-right-color: var(--fill-color);\n",
              "    }\n",
              "    80% {\n",
              "      border-color: transparent;\n",
              "      border-right-color: var(--fill-color);\n",
              "      border-bottom-color: var(--fill-color);\n",
              "    }\n",
              "    90% {\n",
              "      border-color: transparent;\n",
              "      border-bottom-color: var(--fill-color);\n",
              "    }\n",
              "  }\n",
              "</style>\n",
              "\n",
              "  <script>\n",
              "    async function quickchart(key) {\n",
              "      const quickchartButtonEl =\n",
              "        document.querySelector('#' + key + ' button');\n",
              "      quickchartButtonEl.disabled = true;  // To prevent multiple clicks.\n",
              "      quickchartButtonEl.classList.add('colab-df-spinner');\n",
              "      try {\n",
              "        const charts = await google.colab.kernel.invokeFunction(\n",
              "            'suggestCharts', [key], {});\n",
              "      } catch (error) {\n",
              "        console.error('Error during call to suggestCharts:', error);\n",
              "      }\n",
              "      quickchartButtonEl.classList.remove('colab-df-spinner');\n",
              "      quickchartButtonEl.classList.add('colab-df-quickchart-complete');\n",
              "    }\n",
              "    (() => {\n",
              "      let quickchartButtonEl =\n",
              "        document.querySelector('#df-9194027a-c301-47a2-b999-ed2d35aad0e4 button');\n",
              "      quickchartButtonEl.style.display =\n",
              "        google.colab.kernel.accessAllowed ? 'block' : 'none';\n",
              "    })();\n",
              "  </script>\n",
              "</div>\n",
              "    </div>\n",
              "  </div>\n"
            ]
          },
          "metadata": {},
          "execution_count": 7
        }
      ]
    },
    {
      "cell_type": "code",
      "source": [
        "#Creating dictionary of damage amount (key) and the frequency of that damage (items)\n",
        "k=[]\n",
        "i=[]\n",
        "fGWM={}\n",
        "fNoG={}\n",
        "freqN=GWM\n",
        "FreqG=noG\n",
        "\n",
        "\n",
        "\n",
        "for l in [1,2]:\n",
        "    for n in range(0,26):\n",
        "        count = round((l.count(n)/len(l))*100, 1)\n",
        "        k.append(n)\n",
        "        i.append(count)\n",
        "        # print(k)\n",
        "        # print(i)\n",
        "        if n == 25:\n",
        "            # print(k,i)\n",
        "            if l==gwm:\n",
        "                fGWM = dict(zip(k, i))\n",
        "            else:\n",
        "                fNoG = dict(zip(k, i))"
      ],
      "metadata": {
        "id": "RtB31bIpZAFW"
      },
      "execution_count": null,
      "outputs": []
    },
    {
      "cell_type": "code",
      "source": [
        "(df[df['GWM']== 0]['GWM'].count()/tot_rolls)*100"
      ],
      "metadata": {
        "colab": {
          "base_uri": "https://localhost:8080/"
        },
        "id": "ngJkuGjcTucb",
        "outputId": "e28ae6f7-7ff8-47fa-9b49-965295ffa588"
      },
      "execution_count": 39,
      "outputs": [
        {
          "output_type": "execute_result",
          "data": {
            "text/plain": [
              "49.047619047619044"
            ]
          },
          "metadata": {},
          "execution_count": 39
        }
      ]
    },
    {
      "cell_type": "code",
      "source": [
        "k=[]\n",
        "i=[]\n",
        "max = df.GWM.max()\n",
        "tot_rolls= len(df)\n",
        "\n",
        "for damgs in range(max):\n",
        "  count = round((df[df['GWM']== damgs]['GWM'].count()/tot_rolls)*100, 1)\n",
        "  print(damgs, count)\n",
        "  k.append(damgs)\n",
        "  i.append(count)\n",
        "  fGWM = dict(zip(k, i))\n"
      ],
      "metadata": {
        "colab": {
          "base_uri": "https://localhost:8080/"
        },
        "id": "4MzQ7zXRQ4ad",
        "outputId": "2097d75f-500b-4942-8dc1-fd7a0e57767a"
      },
      "execution_count": 45,
      "outputs": [
        {
          "output_type": "stream",
          "name": "stdout",
          "text": [
            "0 49.0\n",
            "1 0.0\n",
            "2 0.0\n",
            "3 0.0\n",
            "4 0.0\n",
            "5 0.0\n",
            "6 0.0\n",
            "7 0.0\n",
            "8 0.0\n",
            "9 0.0\n",
            "10 0.0\n",
            "11 0.0\n",
            "12 0.0\n",
            "13 0.0\n",
            "14 0.0\n",
            "15 1.4\n",
            "16 2.1\n",
            "17 6.9\n",
            "18 4.0\n",
            "19 6.9\n",
            "20 8.6\n",
            "21 7.6\n",
            "22 4.3\n",
            "23 5.2\n",
            "24 2.4\n"
          ]
        }
      ]
    },
    {
      "cell_type": "markdown",
      "source": [
        "# PLOTS"
      ],
      "metadata": {
        "id": "0XIvVp6vRkCf"
      }
    },
    {
      "cell_type": "code",
      "source": [
        "# FREQUENCE hitting probability\n",
        "x=list(HIT.AC)\n",
        "y=list(HIT.hitG)\n",
        "y2=list(HIT.hitN)\n",
        "\n",
        "fig, ax = plt.subplots()  # Create a figure containing a single axes.\n",
        "ax.plot(x, y, marker='o', markersize=4, markeredgecolor='k', label='GWF 2h')  # Plot some data on the axes.\n",
        "ax.plot(x, y2, marker='o', markersize=4, markeredgecolor='k', label='no GWF 2h')\n",
        "ax.grid(True) #Adding grid\n",
        "ax.legend()\n",
        "plt.title('Hitting probability GWF vs normal',fontsize=15)\n",
        "plt.xlabel('DMG',fontsize=15)\n",
        "plt.ylabel('Frequency hitting %',fontsize=15)\n",
        "# Genera una lista di valori sull'asse x e y\n",
        "x_dispari = np.arange(0, 22, 1)\n",
        "#y_dispari = np.arange(0, 27, 2)\n",
        "# Imposta il range dell'asse x e y\n",
        "plt.xticks(x_dispari)\n",
        "#plt.yticks(y_dispari)\n",
        "ax.tick_params(bottom=False)\n",
        "plt.show()"
      ],
      "metadata": {
        "colab": {
          "base_uri": "https://localhost:8080/",
          "height": 480
        },
        "id": "h2BxZNAxQpYc",
        "outputId": "28903fde-b790-4a17-9d28-e9b376c4dc49"
      },
      "execution_count": null,
      "outputs": [
        {
          "output_type": "display_data",
          "data": {
            "text/plain": [
              "<Figure size 640x480 with 1 Axes>"
            ],
            "image/png": "[encoded data removed]"
          },
          "metadata": {}
        }
      ]
    },
    {
      "cell_type": "code",
      "source": [
        "# FREQUENCE valor damage\n",
        "x=list(HIT.AC)\n",
        "y=list(HIT.mnG)\n",
        "y2=list(HIT.mnN)\n",
        "\n",
        "fig, ax = plt.subplots()  # Create a figure containing a single axes.\n",
        "ax.plot(x, y, marker='o', markersize=4, markeredgecolor='k', label='GWF 2h')  # Plot some data on the axes.\n",
        "ax.plot(x, y2, marker='o', markersize=4, markeredgecolor='k', label='no GWF 2h')\n",
        "ax.grid(True) #Adding grid\n",
        "ax.legend()\n",
        "plt.title('DMG dealt by AC with and without GWF',fontsize=15)\n",
        "plt.xlabel('DMG',fontsize=15)\n",
        "plt.ylabel('Damage dealt',fontsize=15)\n",
        "# Genera una lista di valori sull'asse x e y\n",
        "x_dispari = np.arange(0, 22, 1)\n",
        "y_dispari = np.arange(0, 22, 2)\n",
        "# Imposta il range dell'asse x e y\n",
        "plt.xticks(x_dispari)\n",
        "plt.yticks(y_dispari)\n",
        "ax.tick_params(bottom=False)\n",
        "plt.show()"
      ],
      "metadata": {
        "colab": {
          "base_uri": "https://localhost:8080/",
          "height": 480
        },
        "id": "wJvHTLmCRrWV",
        "outputId": "63adf976-a488-4951-c2ba-6d35f055a2aa"
      },
      "execution_count": null,
      "outputs": [
        {
          "output_type": "display_data",
          "data": {
            "text/plain": [
              "<Figure size 640x480 with 1 Axes>"
            ],
            "image/png": "[encoded data removed]"
          },
          "metadata": {}
        }
      ]
    },
    {
      "cell_type": "code",
      "source": [
        "#Distribution of damage\n"
      ],
      "metadata": {
        "id": "od1CZapEYMyq"
      },
      "execution_count": null,
      "outputs": []
    },
    {
      "cell_type": "code",
      "source": [
        "import plotly.graph_objects as go\n",
        "from plotly.subplots import make_subplots\n",
        "#fig = go.Figure()\n",
        "\n",
        "# Create figure with secondary y-axis\n",
        "fig = make_subplots(specs=[[{\"secondary_y\": True}]])\n",
        "\n",
        "fig.add_trace(go.Bar(x=HIT['AC'], y=HIT['mnG'], name='GWM dmg mean', marker_color='#FF6666'), secondary_y=False)\n",
        "fig.add_trace(go.Bar(x=HIT['AC'], y=HIT['mnN'], name='base dmg mean', marker_color='#66b3ff'), secondary_y=False )\n",
        "fig.add_trace(go.Line(x=HIT['AC'], y=HIT['hitG'], name='GWM % rate hit', line_color='#FF0000'), secondary_y=True)\n",
        "fig.add_trace(go.Line(x=HIT['AC'], y=HIT['hitN'], name='base % rate hit', line_color='#6667ff'), secondary_y=True)\n",
        "fig.update_layout(template='plotly', xaxis_title='x label', yaxis_title=\"y label\", title=\"demo title\")\n",
        "\n",
        "# Add figure title\n",
        "fig.update_layout(title_text=\"GWM vs base (with bless)\", title_font_size = 21.5)\n",
        "\n",
        "# Set x-axis title\n",
        "fig.update_xaxes(title_text=\"AC levels\", title_font_size = 17)\n",
        "\n",
        "# Set y-axes titles\n",
        "fig.update_yaxes(title_text=\"<b>Mean damage</b> (hist) - BLACK\", title_font_size = 17,   secondary_y=False, gridwidth=1,   gridcolor='brown',  tickfont_size = 15, tickfont_color='brown')\n",
        "fig.update_yaxes(title_text=\"<b>Hit chance %</b> (line) - VIOLET\", title_font_size = 17, secondary_y=True,  gridwidth=1.5, gridcolor='violet', tickfont_size = 15, tickfont_color='violet')\n",
        "\n",
        "# Set figure size\n",
        "fig.layout.height = 700\n",
        "\n",
        "fig.show()\n",
        "#fig.write_html(\"demo1.html\") #UNCOMMENT TO CREATE A HTML PLOT FILE"
      ],
      "metadata": {
        "id": "rzKRaPtSRzKQ",
        "colab": {
          "base_uri": "https://localhost:8080/",
          "height": 717
        },
        "outputId": "25605977-913a-4d66-fad0-386535042fb2"
      },
      "execution_count": null,
      "outputs": [
        {
          "output_type": "display_data",
          "data": {
            "text/html": [
              "<html>\n",
              "<head><meta charset=\"utf-8\" /></head>\n",
              "<body>\n",
              "    <div>            <script src=\"https://cdnjs.cloudflare.com/ajax/libs/mathjax/2.7.5/MathJax.js?config=TeX-AMS-MML_SVG\"></script><script type=\"text/javascript\">if (window.MathJax && window.MathJax.Hub && window.MathJax.Hub.Config) {window.MathJax.Hub.Config({SVG: {font: \"STIX-Web\"}});}</script>                <script type=\"text/javascript\">window.PlotlyConfig = {MathJaxConfig: 'local'};</script>\n",
              "        <script charset=\"utf-8\" src=\"https://cdn.plot.ly/plotly-2.24.1.min.js\"></script>                <div id=\"976261bd-afaa-4387-ba6b-64920c7efe06\" class=\"plotly-graph-div\" style=\"height:700px; width:100%;\"></div>            <script type=\"text/javascript\">                                    window.PLOTLYENV=window.PLOTLYENV || {};                                    if (document.getElementById(\"976261bd-afaa-4387-ba6b-64920c7efe06\")) {                    Plotly.newPlot(                        \"976261bd-afaa-4387-ba6b-64920c7efe06\",                        [{\"marker\":{\"color\":\"#FF6666\"},\"name\":\"GWM dmg mean\",\"x\":[1,2,3,4,5,6,7,8,9,10,11,12,13,14,15,16,17,18,19,20,21],\"y\":[21.0,20.9,21.2,20.9,20.7,20.1,19.2,18.7,17.3,16.2,15.5,14.8,12.9,12.7,11.2,9.4,9.1,8.3,6.7,5.4,4.9],\"type\":\"bar\",\"xaxis\":\"x\",\"yaxis\":\"y\"},{\"marker\":{\"color\":\"#66b3ff\"},\"name\":\"base dmg mean\",\"x\":[1,2,3,4,5,6,7,8,9,10,11,12,13,14,15,16,17,18,19,20,21],\"y\":[10.9,11.0,10.9,11.1,10.9,11.2,10.9,11.0,10.9,11.0,10.6,10.6,9.6,9.3,8.3,8.1,7.3,6.4,6.1,5.8,5.2],\"type\":\"bar\",\"xaxis\":\"x\",\"yaxis\":\"y\"},{\"name\":\"GWM % rate hit\",\"x\":[1,2,3,4,5,6,7,8,9,10,11,12,13,14,15,16,17,18,19,20,21],\"y\":[100.0,100.0,100.0,100.0,99.0,96.0,91.4,88.6,82.6,76.8,73.6,70.6,61.6,60.0,53.4,44.8,43.4,39.4,32.4,25.8,23.0],\"type\":\"scatter\",\"line\":{\"color\":\"#FF0000\"},\"xaxis\":\"x\",\"yaxis\":\"y2\"},{\"name\":\"base % rate hit\",\"x\":[1,2,3,4,5,6,7,8,9,10,11,12,13,14,15,16,17,18,19,20,21],\"y\":[100.0,100.0,100.0,100.0,100.0,100.0,100.0,100.0,100.0,99.2,97.6,94.2,86.6,84.8,74.2,72.8,66.6,59.2,56.2,53.2,47.8],\"type\":\"scatter\",\"line\":{\"color\":\"#6667ff\"},\"xaxis\":\"x\",\"yaxis\":\"y2\"}],                        {\"template\":{\"data\":{\"histogram2dcontour\":[{\"type\":\"histogram2dcontour\",\"colorbar\":{\"outlinewidth\":0,\"ticks\":\"\"},\"colorscale\":[[0.0,\"#0d0887\"],[0.1111111111111111,\"#46039f\"],[0.2222222222222222,\"#7201a8\"],[0.3333333333333333,\"#9c179e\"],[0.4444444444444444,\"#bd3786\"],[0.5555555555555556,\"#d8576b\"],[0.6666666666666666,\"#ed7953\"],[0.7777777777777778,\"#fb9f3a\"],[0.8888888888888888,\"#fdca26\"],[1.0,\"#f0f921\"]]}],\"choropleth\":[{\"type\":\"choropleth\",\"colorbar\":{\"outlinewidth\":0,\"ticks\":\"\"}}],\"histogram2d\":[{\"type\":\"histogram2d\",\"colorbar\":{\"outlinewidth\":0,\"ticks\":\"\"},\"colorscale\":[[0.0,\"#0d0887\"],[0.1111111111111111,\"#46039f\"],[0.2222222222222222,\"#7201a8\"],[0.3333333333333333,\"#9c179e\"],[0.4444444444444444,\"#bd3786\"],[0.5555555555555556,\"#d8576b\"],[0.6666666666666666,\"#ed7953\"],[0.7777777777777778,\"#fb9f3a\"],[0.8888888888888888,\"#fdca26\"],[1.0,\"#f0f921\"]]}],\"heatmap\":[{\"type\":\"heatmap\",\"colorbar\":{\"outlinewidth\":0,\"ticks\":\"\"},\"colorscale\":[[0.0,\"#0d0887\"],[0.1111111111111111,\"#46039f\"],[0.2222222222222222,\"#7201a8\"],[0.3333333333333333,\"#9c179e\"],[0.4444444444444444,\"#bd3786\"],[0.5555555555555556,\"#d8576b\"],[0.6666666666666666,\"#ed7953\"],[0.7777777777777778,\"#fb9f3a\"],[0.8888888888888888,\"#fdca26\"],[1.0,\"#f0f921\"]]}],\"heatmapgl\":[{\"type\":\"heatmapgl\",\"colorbar\":{\"outlinewidth\":0,\"ticks\":\"\"},\"colorscale\":[[0.0,\"#0d0887\"],[0.1111111111111111,\"#46039f\"],[0.2222222222222222,\"#7201a8\"],[0.3333333333333333,\"#9c179e\"],[0.4444444444444444,\"#bd3786\"],[0.5555555555555556,\"#d8576b\"],[0.6666666666666666,\"#ed7953\"],[0.7777777777777778,\"#fb9f3a\"],[0.8888888888888888,\"#fdca26\"],[1.0,\"#f0f921\"]]}],\"contourcarpet\":[{\"type\":\"contourcarpet\",\"colorbar\":{\"outlinewidth\":0,\"ticks\":\"\"}}],\"contour\":[{\"type\":\"contour\",\"colorbar\":{\"outlinewidth\":0,\"ticks\":\"\"},\"colorscale\":[[0.0,\"#0d0887\"],[0.1111111111111111,\"#46039f\"],[0.2222222222222222,\"#7201a8\"],[0.3333333333333333,\"#9c179e\"],[0.4444444444444444,\"#bd3786\"],[0.5555555555555556,\"#d8576b\"],[0.6666666666666666,\"#ed7953\"],[0.7777777777777778,\"#fb9f3a\"],[0.8888888888888888,\"#fdca26\"],[1.0,\"#f0f921\"]]}],\"surface\":[{\"type\":\"surface\",\"colorbar\":{\"outlinewidth\":0,\"ticks\":\"\"},\"colorscale\":[[0.0,\"#0d0887\"],[0.1111111111111111,\"#46039f\"],[0.2222222222222222,\"#7201a8\"],[0.3333333333333333,\"#9c179e\"],[0.4444444444444444,\"#bd3786\"],[0.5555555555555556,\"#d8576b\"],[0.6666666666666666,\"#ed7953\"],[0.7777777777777778,\"#fb9f3a\"],[0.8888888888888888,\"#fdca26\"],[1.0,\"#f0f921\"]]}],\"mesh3d\":[{\"type\":\"mesh3d\",\"colorbar\":{\"outlinewidth\":0,\"ticks\":\"\"}}],\"scatter\":[{\"fillpattern\":{\"fillmode\":\"overlay\",\"size\":10,\"solidity\":0.2},\"type\":\"scatter\"}],\"parcoords\":[{\"type\":\"parcoords\",\"line\":{\"colorbar\":{\"outlinewidth\":0,\"ticks\":\"\"}}}],\"scatterpolargl\":[{\"type\":\"scatterpolargl\",\"marker\":{\"colorbar\":{\"outlinewidth\":0,\"ticks\":\"\"}}}],\"bar\":[{\"error_x\":{\"color\":\"#2a3f5f\"},\"error_y\":{\"color\":\"#2a3f5f\"},\"marker\":{\"line\":{\"color\":\"#E5ECF6\",\"width\":0.5},\"pattern\":{\"fillmode\":\"overlay\",\"size\":10,\"solidity\":0.2}},\"type\":\"bar\"}],\"scattergeo\":[{\"type\":\"scattergeo\",\"marker\":{\"colorbar\":{\"outlinewidth\":0,\"ticks\":\"\"}}}],\"scatterpolar\":[{\"type\":\"scatterpolar\",\"marker\":{\"colorbar\":{\"outlinewidth\":0,\"ticks\":\"\"}}}],\"histogram\":[{\"marker\":{\"pattern\":{\"fillmode\":\"overlay\",\"size\":10,\"solidity\":0.2}},\"type\":\"histogram\"}],\"scattergl\":[{\"type\":\"scattergl\",\"marker\":{\"colorbar\":{\"outlinewidth\":0,\"ticks\":\"\"}}}],\"scatter3d\":[{\"type\":\"scatter3d\",\"line\":{\"colorbar\":{\"outlinewidth\":0,\"ticks\":\"\"}},\"marker\":{\"colorbar\":{\"outlinewidth\":0,\"ticks\":\"\"}}}],\"scattermapbox\":[{\"type\":\"scattermapbox\",\"marker\":{\"colorbar\":{\"outlinewidth\":0,\"ticks\":\"\"}}}],\"scatterternary\":[{\"type\":\"scatterternary\",\"marker\":{\"colorbar\":{\"outlinewidth\":0,\"ticks\":\"\"}}}],\"scattercarpet\":[{\"type\":\"scattercarpet\",\"marker\":{\"colorbar\":{\"outlinewidth\":0,\"ticks\":\"\"}}}],\"carpet\":[{\"aaxis\":{\"endlinecolor\":\"#2a3f5f\",\"gridcolor\":\"white\",\"linecolor\":\"white\",\"minorgridcolor\":\"white\",\"startlinecolor\":\"#2a3f5f\"},\"baxis\":{\"endlinecolor\":\"#2a3f5f\",\"gridcolor\":\"white\",\"linecolor\":\"white\",\"minorgridcolor\":\"white\",\"startlinecolor\":\"#2a3f5f\"},\"type\":\"carpet\"}],\"table\":[{\"cells\":{\"fill\":{\"color\":\"#EBF0F8\"},\"line\":{\"color\":\"white\"}},\"header\":{\"fill\":{\"color\":\"#C8D4E3\"},\"line\":{\"color\":\"white\"}},\"type\":\"table\"}],\"barpolar\":[{\"marker\":{\"line\":{\"color\":\"#E5ECF6\",\"width\":0.5},\"pattern\":{\"fillmode\":\"overlay\",\"size\":10,\"solidity\":0.2}},\"type\":\"barpolar\"}],\"pie\":[{\"automargin\":true,\"type\":\"pie\"}]},\"layout\":{\"autotypenumbers\":\"strict\",\"colorway\":[\"#636efa\",\"#EF553B\",\"#00cc96\",\"#ab63fa\",\"#FFA15A\",\"#19d3f3\",\"#FF6692\",\"#B6E880\",\"#FF97FF\",\"#FECB52\"],\"font\":{\"color\":\"#2a3f5f\"},\"hovermode\":\"closest\",\"hoverlabel\":{\"align\":\"left\"},\"paper_bgcolor\":\"white\",\"plot_bgcolor\":\"#E5ECF6\",\"polar\":{\"bgcolor\":\"#E5ECF6\",\"angularaxis\":{\"gridcolor\":\"white\",\"linecolor\":\"white\",\"ticks\":\"\"},\"radialaxis\":{\"gridcolor\":\"white\",\"linecolor\":\"white\",\"ticks\":\"\"}},\"ternary\":{\"bgcolor\":\"#E5ECF6\",\"aaxis\":{\"gridcolor\":\"white\",\"linecolor\":\"white\",\"ticks\":\"\"},\"baxis\":{\"gridcolor\":\"white\",\"linecolor\":\"white\",\"ticks\":\"\"},\"caxis\":{\"gridcolor\":\"white\",\"linecolor\":\"white\",\"ticks\":\"\"}},\"coloraxis\":{\"colorbar\":{\"outlinewidth\":0,\"ticks\":\"\"}},\"colorscale\":{\"sequential\":[[0.0,\"#0d0887\"],[0.1111111111111111,\"#46039f\"],[0.2222222222222222,\"#7201a8\"],[0.3333333333333333,\"#9c179e\"],[0.4444444444444444,\"#bd3786\"],[0.5555555555555556,\"#d8576b\"],[0.6666666666666666,\"#ed7953\"],[0.7777777777777778,\"#fb9f3a\"],[0.8888888888888888,\"#fdca26\"],[1.0,\"#f0f921\"]],\"sequentialminus\":[[0.0,\"#0d0887\"],[0.1111111111111111,\"#46039f\"],[0.2222222222222222,\"#7201a8\"],[0.3333333333333333,\"#9c179e\"],[0.4444444444444444,\"#bd3786\"],[0.5555555555555556,\"#d8576b\"],[0.6666666666666666,\"#ed7953\"],[0.7777777777777778,\"#fb9f3a\"],[0.8888888888888888,\"#fdca26\"],[1.0,\"#f0f921\"]],\"diverging\":[[0,\"#8e0152\"],[0.1,\"#c51b7d\"],[0.2,\"#de77ae\"],[0.3,\"#f1b6da\"],[0.4,\"#fde0ef\"],[0.5,\"#f7f7f7\"],[0.6,\"#e6f5d0\"],[0.7,\"#b8e186\"],[0.8,\"#7fbc41\"],[0.9,\"#4d9221\"],[1,\"#276419\"]]},\"xaxis\":{\"gridcolor\":\"white\",\"linecolor\":\"white\",\"ticks\":\"\",\"title\":{\"standoff\":15},\"zerolinecolor\":\"white\",\"automargin\":true,\"zerolinewidth\":2},\"yaxis\":{\"gridcolor\":\"white\",\"linecolor\":\"white\",\"ticks\":\"\",\"title\":{\"standoff\":15},\"zerolinecolor\":\"white\",\"automargin\":true,\"zerolinewidth\":2},\"scene\":{\"xaxis\":{\"backgroundcolor\":\"#E5ECF6\",\"gridcolor\":\"white\",\"linecolor\":\"white\",\"showbackground\":true,\"ticks\":\"\",\"zerolinecolor\":\"white\",\"gridwidth\":2},\"yaxis\":{\"backgroundcolor\":\"#E5ECF6\",\"gridcolor\":\"white\",\"linecolor\":\"white\",\"showbackground\":true,\"ticks\":\"\",\"zerolinecolor\":\"white\",\"gridwidth\":2},\"zaxis\":{\"backgroundcolor\":\"#E5ECF6\",\"gridcolor\":\"white\",\"linecolor\":\"white\",\"showbackground\":true,\"ticks\":\"\",\"zerolinecolor\":\"white\",\"gridwidth\":2}},\"shapedefaults\":{\"line\":{\"color\":\"#2a3f5f\"}},\"annotationdefaults\":{\"arrowcolor\":\"#2a3f5f\",\"arrowhead\":0,\"arrowwidth\":1},\"geo\":{\"bgcolor\":\"white\",\"landcolor\":\"#E5ECF6\",\"subunitcolor\":\"white\",\"showland\":true,\"showlakes\":true,\"lakecolor\":\"white\"},\"title\":{\"x\":0.05},\"mapbox\":{\"style\":\"light\"}}},\"xaxis\":{\"anchor\":\"y\",\"domain\":[0.0,0.94],\"title\":{\"text\":\"AC levels\",\"font\":{\"size\":17}}},\"yaxis\":{\"anchor\":\"x\",\"domain\":[0.0,1.0],\"title\":{\"text\":\"\\u003cb\\u003eMean damage\\u003c\\u002fb\\u003e (hist) - BLACK\",\"font\":{\"size\":17}},\"tickfont\":{\"size\":15,\"color\":\"brown\"},\"gridwidth\":1,\"gridcolor\":\"brown\"},\"yaxis2\":{\"anchor\":\"x\",\"overlaying\":\"y\",\"side\":\"right\",\"title\":{\"font\":{\"size\":17},\"text\":\"\\u003cb\\u003eHit chance %\\u003c\\u002fb\\u003e (line) - VIOLET\"},\"tickfont\":{\"size\":15,\"color\":\"violet\"},\"gridwidth\":1.5,\"gridcolor\":\"violet\"},\"title\":{\"text\":\"GWM vs base (with bless)\",\"font\":{\"size\":21.5}},\"height\":700},                        {\"responsive\": true}                    ).then(function(){\n",
              "                            \n",
              "var gd = document.getElementById('976261bd-afaa-4387-ba6b-64920c7efe06');\n",
              "var x = new MutationObserver(function (mutations, observer) {{\n",
              "        var display = window.getComputedStyle(gd).display;\n",
              "        if (!display || display === 'none') {{\n",
              "            console.log([gd, 'removed!']);\n",
              "            Plotly.purge(gd);\n",
              "            observer.disconnect();\n",
              "        }}\n",
              "}});\n",
              "\n",
              "// Listen for the removal of the full notebook cells\n",
              "var notebookContainer = gd.closest('#notebook-container');\n",
              "if (notebookContainer) {{\n",
              "    x.observe(notebookContainer, {childList: true});\n",
              "}}\n",
              "\n",
              "// Listen for the clearing of the current output cell\n",
              "var outputEl = gd.closest('.output');\n",
              "if (outputEl) {{\n",
              "    x.observe(outputEl, {childList: true});\n",
              "}}\n",
              "\n",
              "                        })                };                            </script>        </div>\n",
              "</body>\n",
              "</html>"
            ]
          },
          "metadata": {}
        }
      ]
    },
    {
      "cell_type": "code",
      "source": [],
      "metadata": {
        "id": "HZ36dt4v8YSX"
      },
      "execution_count": null,
      "outputs": []
    }
  ]
}